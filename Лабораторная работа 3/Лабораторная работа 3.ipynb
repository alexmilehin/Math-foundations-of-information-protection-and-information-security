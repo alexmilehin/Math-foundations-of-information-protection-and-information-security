{
 "cells": [
  {
   "cell_type": "code",
   "execution_count": 7,
   "metadata": {},
   "outputs": [],
   "source": [
    "def main():\n",
    "    dict = {\"а\" :1, \"б\" :2, \"в\" :3, \"г\" :4, \"д\" :5, \"е\" :6, \"ё\" :7, \"ж\" :8, \n",
    "           \"з\" :9, \"и\" :10, \"й\" :11, \"к\" :12, \"л\" :13, \"м\" :14, \"н\" :15, \"о\" :16, \n",
    "           \"п\" :17, \"р\" :18, \"с\" :19, \"т\" :20, \"у\" :21, \"ф\" :22, \"х\" :23, \"ц\" :24, \n",
    "           \"ч\" :25, \"ш\" :26, \"щ\" :27, \"ъ\" :28, \"ы\" :29, \"ь\" :30, \"э\" :31, \"ю\" :32, \n",
    "           \"я\" :33}\n",
    "    dict2 = {v: k for k, v in dict.items()}\n",
    "    gamma = input(\"Введите гамму, состоящую из букв dict \").lower()\n",
    "    text = input(\"Введите текст для шифрования \").lower()\n",
    "    listtext = list()\n",
    "    listgamma = list()\n",
    "    for i in text:\n",
    "        listtext.append(dict[i])\n",
    "    print(\"Числа текста\", listtext)\n",
    "    for i in gamma:\n",
    "        listgamma.append(dict[i])\n",
    "    print(\"Числа гаммы\", listgamma)\n",
    "    listresult = list()\n",
    "    ch = 0\n",
    "    for i in text:\n",
    "        try:\n",
    "            a = dict[i] + listgamma[ch]\n",
    "        except:\n",
    "            ch = 0\n",
    "            a = dict[i] + listgamma[ch]\n",
    "        if a>=33:\n",
    "            a = a%33\n",
    "        ch += 1\n",
    "        listresult.append(a)\n",
    "    print(\"Числа зашифрованного текста\", listresult)\n",
    "    textencrypted = \"\"\n",
    "    for i in listresult:\n",
    "        textencrypted += dict2[i]\n",
    "    print(\"Зашифрованный текст: \", textencrypted)\n",
    "    listofdigits = list()\n",
    "    for i in textencrypted:\n",
    "        listofdigits.append(dict[i])\n",
    "    ch = 0\n",
    "    listofdigits1 = list()\n",
    "    for i in listofdigits:\n",
    "        a = i - listgamma[ch]\n",
    "        if a < 1:\n",
    "            a += 33\n",
    "        listofdigits1.append(a)\n",
    "        ch += 1\n",
    "    textdecrypted = ''\n",
    "    for i in listofdigits1:\n",
    "        textdecrypted += dict2[i]\n",
    "    print(\"Decrypted text\", textdecrypted)"
   ]
  },
  {
   "cell_type": "code",
   "execution_count": 8,
   "metadata": {},
   "outputs": [
    {
     "name": "stdout",
     "output_type": "stream",
     "text": [
      "Введите гамму, состоящую из букв dict здарова\n",
      "Введите текст для шифрования гамма\n",
      "Числа текста [4, 1, 14, 14, 1]\n",
      "Числа гаммы [9, 5, 1, 18, 16, 3, 1]\n",
      "Числа зашифрованного текста [13, 6, 15, 32, 17]\n",
      "Зашифрованный текст:  ленюп\n",
      "Decrypted text гамма\n"
     ]
    }
   ],
   "source": [
    "if __name__ == '__main__':\n",
    "    main()"
   ]
  },
  {
   "cell_type": "code",
   "execution_count": null,
   "metadata": {},
   "outputs": [],
   "source": []
  },
  {
   "cell_type": "code",
   "execution_count": null,
   "metadata": {},
   "outputs": [],
   "source": []
  }
 ],
 "metadata": {
  "kernelspec": {
   "display_name": "Python 3",
   "language": "python",
   "name": "python3"
  },
  "language_info": {
   "codemirror_mode": {
    "name": "ipython",
    "version": 3
   },
   "file_extension": ".py",
   "mimetype": "text/x-python",
   "name": "python",
   "nbconvert_exporter": "python",
   "pygments_lexer": "ipython3",
   "version": "3.7.4"
  }
 },
 "nbformat": 4,
 "nbformat_minor": 4
}
